{
 "cells": [
  {
   "cell_type": "markdown",
   "metadata": {},
   "source": [
    "# 네이버 플레이스 리뷰 데이터 전처리 \n",
    "\n",
    "간단하게 형태소 분석기를 사용하여 네이버 플레이스에 입점해있는 카페들의 리뷰 데이터를 전처리하는 과정을 담아보았습니다. Proof of Concept 느낌으로 가볍게 봐주세요~"
   ]
  },
  {
   "cell_type": "markdown",
   "metadata": {},
   "source": [
    "## 리뷰 데이터 불러오기"
   ]
  },
  {
   "cell_type": "code",
   "execution_count": 1,
   "metadata": {},
   "outputs": [],
   "source": [
    "import pandas as pd"
   ]
  },
  {
   "cell_type": "code",
   "execution_count": 2,
   "metadata": {},
   "outputs": [
    {
     "data": {
      "text/html": [
       "<div>\n",
       "<style scoped>\n",
       "    .dataframe tbody tr th:only-of-type {\n",
       "        vertical-align: middle;\n",
       "    }\n",
       "\n",
       "    .dataframe tbody tr th {\n",
       "        vertical-align: top;\n",
       "    }\n",
       "\n",
       "    .dataframe thead th {\n",
       "        text-align: right;\n",
       "    }\n",
       "</style>\n",
       "<table border=\"1\" class=\"dataframe\">\n",
       "  <thead>\n",
       "    <tr style=\"text-align: right;\">\n",
       "      <th></th>\n",
       "      <th>store</th>\n",
       "      <th>rating</th>\n",
       "      <th>description</th>\n",
       "      <th>reviews</th>\n",
       "    </tr>\n",
       "  </thead>\n",
       "  <tbody>\n",
       "    <tr>\n",
       "      <th>0</th>\n",
       "      <td>오드랑베이커리</td>\n",
       "      <td>4.818182</td>\n",
       "      <td>NaN</td>\n",
       "      <td>['마농바게트 맛있어요~~', '맛있어요.', '까르보나라 빵 진짜맛있어요', '마...</td>\n",
       "    </tr>\n",
       "    <tr>\n",
       "      <th>1</th>\n",
       "      <td>Bake things better</td>\n",
       "      <td>4.875000</td>\n",
       "      <td>안녕하세요! 베이크 띵스 베러입니다.\\n우리 매장은 테이크 아웃을 전문으로 한 베이...</td>\n",
       "      <td>['쿠키만 사려 했는데 스콘이 너무 맛있어보여서… 대체적으로 다 맛있었어요~~ 말차...</td>\n",
       "    </tr>\n",
       "    <tr>\n",
       "      <th>2</th>\n",
       "      <td>파파무베이커리</td>\n",
       "      <td>4.656863</td>\n",
       "      <td>아빠가 딸을위해 만드는 건강한빵으로 아이가 아빠를부르는 옹알이의 파파무입니다^^천연...</td>\n",
       "      <td>['사장님도 친절하고 빵도 맛있어요!', '빵도 케익도 커피도 맛있고  사장님 인성...</td>\n",
       "    </tr>\n",
       "    <tr>\n",
       "      <th>3</th>\n",
       "      <td>텍스처베이커리</td>\n",
       "      <td>4.611111</td>\n",
       "      <td>텍스처 베이커리는 가정식 디저트를 추구합니다.\\n꾸며지지 않은 러프한 디저트를 즐겨...</td>\n",
       "      <td>['키쉬종류가 많아서 좋아요', '매장인테리어 귀엽구 빵도 일반적이지 않은 빵들이 ...</td>\n",
       "    </tr>\n",
       "    <tr>\n",
       "      <th>4</th>\n",
       "      <td>가야베이커리</td>\n",
       "      <td>5.000000</td>\n",
       "      <td>NaN</td>\n",
       "      <td>['규모는 작지만 빵이 맛있고 가격도 저렴해서 자주 방문하고 있습니다. 사장님 친절...</td>\n",
       "    </tr>\n",
       "  </tbody>\n",
       "</table>\n",
       "</div>"
      ],
      "text/plain": [
       "                store    rating  \\\n",
       "0             오드랑베이커리  4.818182   \n",
       "1  Bake things better  4.875000   \n",
       "2             파파무베이커리  4.656863   \n",
       "3             텍스처베이커리  4.611111   \n",
       "4              가야베이커리  5.000000   \n",
       "\n",
       "                                         description  \\\n",
       "0                                                NaN   \n",
       "1  안녕하세요! 베이크 띵스 베러입니다.\\n우리 매장은 테이크 아웃을 전문으로 한 베이...   \n",
       "2  아빠가 딸을위해 만드는 건강한빵으로 아이가 아빠를부르는 옹알이의 파파무입니다^^천연...   \n",
       "3  텍스처 베이커리는 가정식 디저트를 추구합니다.\\n꾸며지지 않은 러프한 디저트를 즐겨...   \n",
       "4                                                NaN   \n",
       "\n",
       "                                             reviews  \n",
       "0  ['마농바게트 맛있어요~~', '맛있어요.', '까르보나라 빵 진짜맛있어요', '마...  \n",
       "1  ['쿠키만 사려 했는데 스콘이 너무 맛있어보여서… 대체적으로 다 맛있었어요~~ 말차...  \n",
       "2  ['사장님도 친절하고 빵도 맛있어요!', '빵도 케익도 커피도 맛있고  사장님 인성...  \n",
       "3  ['키쉬종류가 많아서 좋아요', '매장인테리어 귀엽구 빵도 일반적이지 않은 빵들이 ...  \n",
       "4  ['규모는 작지만 빵이 맛있고 가격도 저렴해서 자주 방문하고 있습니다. 사장님 친절...  "
      ]
     },
     "execution_count": 2,
     "metadata": {},
     "output_type": "execute_result"
    }
   ],
   "source": [
    "cafe_reviews = pd.read_csv('data/cafe_reviews.csv')\n",
    "cafe_reviews.head()"
   ]
  },
  {
   "cell_type": "markdown",
   "metadata": {},
   "source": [
    "### 체크포인트\n",
    "\n",
    "- 가게 설명글을 써놓지 않은 가게의 `desciption`에는 NaN 으로 되어있음\n",
    "\n",
    "- `reviews`의 값이 리스트 같아 보이지만 하나의 문자열로 되어있음"
   ]
  },
  {
   "cell_type": "code",
   "execution_count": 3,
   "metadata": {},
   "outputs": [
    {
     "name": "stdout",
     "output_type": "stream",
     "text": [
      "<class 'pandas.core.frame.DataFrame'>\n",
      "RangeIndex: 934 entries, 0 to 933\n",
      "Data columns (total 4 columns):\n",
      " #   Column       Non-Null Count  Dtype  \n",
      "---  ------       --------------  -----  \n",
      " 0   store        934 non-null    object \n",
      " 1   rating       865 non-null    float64\n",
      " 2   description  446 non-null    object \n",
      " 3   reviews      934 non-null    object \n",
      "dtypes: float64(1), object(3)\n",
      "memory usage: 29.3+ KB\n"
     ]
    }
   ],
   "source": [
    "cafe_reviews.info()"
   ]
  },
  {
   "cell_type": "markdown",
   "metadata": {},
   "source": [
    "## description 구두점 제거\n",
    "\n",
    "가게 설명글에 해당하는 `description` 행의 값들에 구두점을 제거"
   ]
  },
  {
   "cell_type": "code",
   "execution_count": 4,
   "metadata": {},
   "outputs": [],
   "source": [
    "import string\n",
    "import ast"
   ]
  },
  {
   "cell_type": "code",
   "execution_count": 5,
   "metadata": {},
   "outputs": [],
   "source": [
    "def remove_punctuation(row: list) -> list:\n",
    "    reviews = [x.translate(punctuation_mapping) for x in row]\n",
    "    return reviews"
   ]
  },
  {
   "cell_type": "code",
   "execution_count": 6,
   "metadata": {},
   "outputs": [],
   "source": [
    "punctuation_mapping = str.maketrans('', '', string.punctuation)"
   ]
  },
  {
   "cell_type": "code",
   "execution_count": 7,
   "metadata": {},
   "outputs": [],
   "source": [
    "cafe_reviews['description'] = cafe_reviews['description'].fillna('')\n",
    "cafe_desc = remove_punctuation(cafe_reviews['description'])\n",
    "cafe_reviews['description'] = pd.Series(cafe_desc)"
   ]
  },
  {
   "cell_type": "markdown",
   "metadata": {},
   "source": [
    "## reviews에 각 리뷰마다 구두점 제거\n",
    "\n",
    "리스트 객체의 메소드를 사용하기 위해 우선 리스트 처럼 보이는 문자열을 리스트로 변환시켜주어야 함"
   ]
  },
  {
   "cell_type": "code",
   "execution_count": 8,
   "metadata": {},
   "outputs": [],
   "source": [
    "reviews = [ast.literal_eval(x) for x in cafe_reviews['reviews']]\n",
    "cafe_reviews['reviews'] = pd.Series(reviews)\n",
    "cafe_reviews['reviews'] = cafe_reviews['reviews'].apply(remove_punctuation)"
   ]
  },
  {
   "cell_type": "markdown",
   "metadata": {},
   "source": [
    "## 명사만 남기기\n",
    "\n",
    "형태소 분석기로는 [Okt](https://github.com/open-korean-text/open-korean-text)를 사용하였음"
   ]
  },
  {
   "cell_type": "code",
   "execution_count": 9,
   "metadata": {},
   "outputs": [],
   "source": [
    "from konlpy.tag import Okt\n",
    "from tqdm import tqdm"
   ]
  },
  {
   "cell_type": "code",
   "execution_count": 10,
   "metadata": {},
   "outputs": [],
   "source": [
    "okt = Okt()"
   ]
  },
  {
   "cell_type": "markdown",
   "metadata": {},
   "source": [
    "`reviews`에 각 리뷰마다 명사를 추출"
   ]
  },
  {
   "cell_type": "code",
   "execution_count": 11,
   "metadata": {},
   "outputs": [
    {
     "name": "stderr",
     "output_type": "stream",
     "text": [
      "100%|██████████████████████████████████████████████████| 934/934 [00:42<00:00, 22.14it/s]\n"
     ]
    }
   ],
   "source": [
    "reviews_in_noun = []\n",
    "for review in tqdm(cafe_reviews['reviews']):\n",
    "    store_review = []\n",
    "    for item in review:\n",
    "        noun = okt.nouns(item)  # 명사 추출\n",
    "        noun = ' '.join(noun)  # 띄어쓰기 제거\n",
    "        store_review.append(noun)\n",
    "    store_review = list(filter(None, store_review))  # 빈 문자열 제거\n",
    "    reviews_in_noun.append(store_review)\n",
    "cafe_reviews['reviews_in_noun'] = pd.Series(reviews_in_noun)"
   ]
  },
  {
   "cell_type": "markdown",
   "metadata": {},
   "source": [
    "## 결과물"
   ]
  },
  {
   "cell_type": "code",
   "execution_count": 12,
   "metadata": {
    "tags": []
   },
   "outputs": [
    {
     "data": {
      "text/html": [
       "<div>\n",
       "<style scoped>\n",
       "    .dataframe tbody tr th:only-of-type {\n",
       "        vertical-align: middle;\n",
       "    }\n",
       "\n",
       "    .dataframe tbody tr th {\n",
       "        vertical-align: top;\n",
       "    }\n",
       "\n",
       "    .dataframe thead th {\n",
       "        text-align: right;\n",
       "    }\n",
       "</style>\n",
       "<table border=\"1\" class=\"dataframe\">\n",
       "  <thead>\n",
       "    <tr style=\"text-align: right;\">\n",
       "      <th></th>\n",
       "      <th>store</th>\n",
       "      <th>rating</th>\n",
       "      <th>description</th>\n",
       "      <th>reviews</th>\n",
       "      <th>reviews_in_noun</th>\n",
       "    </tr>\n",
       "  </thead>\n",
       "  <tbody>\n",
       "    <tr>\n",
       "      <th>0</th>\n",
       "      <td>오드랑베이커리</td>\n",
       "      <td>4.818182</td>\n",
       "      <td></td>\n",
       "      <td>[마농바게트 맛있어요, 맛있어요, 까르보나라 빵 진짜맛있어요, 마농은 필수입니다, ...</td>\n",
       "      <td>[마농 바게트, 까르보나라 빵 진짜, 마농 필수, 빵, 빵 달, 마늘 바게트 안 것...</td>\n",
       "    </tr>\n",
       "    <tr>\n",
       "      <th>1</th>\n",
       "      <td>Bake things better</td>\n",
       "      <td>4.875000</td>\n",
       "      <td>안녕하세요 베이크 띵스 베러입니다\\n우리 매장은 테이크 아웃을 전문으로 한 베이커리...</td>\n",
       "      <td>[쿠키만 사려 했는데 스콘이 너무 맛있어보여서… 대체적으로 다 맛있었어요 말차초코는...</td>\n",
       "      <td>[쿠키 사려 스콘 보 체적 말차 초코 안 크림 치즈 꽤 습, 쿠키 진심 하나 몇개 ...</td>\n",
       "    </tr>\n",
       "    <tr>\n",
       "      <th>2</th>\n",
       "      <td>파파무베이커리</td>\n",
       "      <td>4.656863</td>\n",
       "      <td>아빠가 딸을위해 만드는 건강한빵으로 아이가 아빠를부르는 옹알이의 파파무입니다천연발효...</td>\n",
       "      <td>[사장님도 친절하고 빵도 맛있어요, 빵도 케익도 커피도 맛있고  사장님 인성이 너무...</td>\n",
       "      <td>[사장 빵, 빵 케익 커피 사장 인성 번창, 최애 동네 빵집, 브랜드 빵 종류 동네...</td>\n",
       "    </tr>\n",
       "    <tr>\n",
       "      <th>3</th>\n",
       "      <td>텍스처베이커리</td>\n",
       "      <td>4.611111</td>\n",
       "      <td>텍스처 베이커리는 가정식 디저트를 추구합니다\\n꾸며지지 않은 러프한 디저트를 즐겨보세요</td>\n",
       "      <td>[키쉬종류가 많아서 좋아요, 매장인테리어 귀엽구 빵도 일반적이지 않은 빵들이 많아서...</td>\n",
       "      <td>[키쉬 종류, 매장 인테리어 빵 일반 빵, 리뷰 보고 곳 당근 케익 맛, 빵 정말 ...</td>\n",
       "    </tr>\n",
       "    <tr>\n",
       "      <th>4</th>\n",
       "      <td>가야베이커리</td>\n",
       "      <td>5.000000</td>\n",
       "      <td></td>\n",
       "      <td>[규모는 작지만 빵이 맛있고 가격도 저렴해서 자주 방문하고 있습니다 사장님 친절하시...</td>\n",
       "      <td>[규모 작 빵 가격 자주 방문 사장, 색롤 구입 보기, 옛날 빵 나이 빵집 동네 빵...</td>\n",
       "    </tr>\n",
       "    <tr>\n",
       "      <th>...</th>\n",
       "      <td>...</td>\n",
       "      <td>...</td>\n",
       "      <td>...</td>\n",
       "      <td>...</td>\n",
       "      <td>...</td>\n",
       "    </tr>\n",
       "    <tr>\n",
       "      <th>929</th>\n",
       "      <td>평화로빵</td>\n",
       "      <td>4.388889</td>\n",
       "      <td></td>\n",
       "      <td>[맛집, 쑥빵 맛있어요, 평범한 동네 빵집이었어요, , 굿, 굿, 좋습니다아으, 굳...</td>\n",
       "      <td>[맛집, 쑥빵, 동네 빵집, 굿, 굿]</td>\n",
       "    </tr>\n",
       "    <tr>\n",
       "      <th>930</th>\n",
       "      <td>한라드블랑</td>\n",
       "      <td>4.625000</td>\n",
       "      <td>제주 프리미엄 케이크 전문점 예약제로 운영되고있습니다  \\n최소 23일전까지 카카오...</td>\n",
       "      <td>[사장님 너무너무 친절하시규 포크도 챙겨주셔서 감동ㅠㅠ 크레이크 케이크는 첨인데 쫀...</td>\n",
       "      <td>[사장 규 포크 감동 레이크 케이크 첨 쫀득하 맛, 진짜 생크림 맛 다음 홀 케이크...</td>\n",
       "    </tr>\n",
       "    <tr>\n",
       "      <th>931</th>\n",
       "      <td>함덕스마일찹쌀꽈배기</td>\n",
       "      <td>4.552632</td>\n",
       "      <td>정성스런 음식\\n친절한 서비스\\n맛보장\\n</td>\n",
       "      <td>[가게는 아담하지만 핫도그 정말 맛있어요, 맛나요, 평범하지만 맛있어요 기름지지않고...</td>\n",
       "      <td>[가게 핫도그 정말, 맛 요, 쫄깃 가끔 그 시장 찹쌀 꽈배기 맛 설탕 잔뜩, 쫄깃...</td>\n",
       "    </tr>\n",
       "    <tr>\n",
       "      <th>932</th>\n",
       "      <td>해돋이까페</td>\n",
       "      <td>NaN</td>\n",
       "      <td></td>\n",
       "      <td>[]</td>\n",
       "      <td>[]</td>\n",
       "    </tr>\n",
       "    <tr>\n",
       "      <th>933</th>\n",
       "      <td>효돈빵오롯이</td>\n",
       "      <td>4.702128</td>\n",
       "      <td>여러종류의 빵과 음료커피를 드실수있는 공간이 있습니다\\n효돈에 오시면 꼭 들려주세요</td>\n",
       "      <td>[부담없이 편한곳추천추천, 전체적으로 너무 깔끔하고 넓어서 너무좋아요 무엇보다 너무...</td>\n",
       "      <td>[부담 곳 추천 추천, 전체 무엇 빵맛 말 뭐해 커피 맛 빵 호박 카스테라 추천, ...</td>\n",
       "    </tr>\n",
       "  </tbody>\n",
       "</table>\n",
       "<p>934 rows × 5 columns</p>\n",
       "</div>"
      ],
      "text/plain": [
       "                  store    rating  \\\n",
       "0               오드랑베이커리  4.818182   \n",
       "1    Bake things better  4.875000   \n",
       "2               파파무베이커리  4.656863   \n",
       "3               텍스처베이커리  4.611111   \n",
       "4                가야베이커리  5.000000   \n",
       "..                  ...       ...   \n",
       "929                평화로빵  4.388889   \n",
       "930               한라드블랑  4.625000   \n",
       "931          함덕스마일찹쌀꽈배기  4.552632   \n",
       "932               해돋이까페       NaN   \n",
       "933              효돈빵오롯이  4.702128   \n",
       "\n",
       "                                           description  \\\n",
       "0                                                        \n",
       "1    안녕하세요 베이크 띵스 베러입니다\\n우리 매장은 테이크 아웃을 전문으로 한 베이커리...   \n",
       "2    아빠가 딸을위해 만드는 건강한빵으로 아이가 아빠를부르는 옹알이의 파파무입니다천연발효...   \n",
       "3     텍스처 베이커리는 가정식 디저트를 추구합니다\\n꾸며지지 않은 러프한 디저트를 즐겨보세요   \n",
       "4                                                        \n",
       "..                                                 ...   \n",
       "929                                                      \n",
       "930  제주 프리미엄 케이크 전문점 예약제로 운영되고있습니다  \\n최소 23일전까지 카카오...   \n",
       "931                            정성스런 음식\\n친절한 서비스\\n맛보장\\n   \n",
       "932                                                      \n",
       "933     여러종류의 빵과 음료커피를 드실수있는 공간이 있습니다\\n효돈에 오시면 꼭 들려주세요   \n",
       "\n",
       "                                               reviews  \\\n",
       "0    [마농바게트 맛있어요, 맛있어요, 까르보나라 빵 진짜맛있어요, 마농은 필수입니다, ...   \n",
       "1    [쿠키만 사려 했는데 스콘이 너무 맛있어보여서… 대체적으로 다 맛있었어요 말차초코는...   \n",
       "2    [사장님도 친절하고 빵도 맛있어요, 빵도 케익도 커피도 맛있고  사장님 인성이 너무...   \n",
       "3    [키쉬종류가 많아서 좋아요, 매장인테리어 귀엽구 빵도 일반적이지 않은 빵들이 많아서...   \n",
       "4    [규모는 작지만 빵이 맛있고 가격도 저렴해서 자주 방문하고 있습니다 사장님 친절하시...   \n",
       "..                                                 ...   \n",
       "929  [맛집, 쑥빵 맛있어요, 평범한 동네 빵집이었어요, , 굿, 굿, 좋습니다아으, 굳...   \n",
       "930  [사장님 너무너무 친절하시규 포크도 챙겨주셔서 감동ㅠㅠ 크레이크 케이크는 첨인데 쫀...   \n",
       "931  [가게는 아담하지만 핫도그 정말 맛있어요, 맛나요, 평범하지만 맛있어요 기름지지않고...   \n",
       "932                                                 []   \n",
       "933  [부담없이 편한곳추천추천, 전체적으로 너무 깔끔하고 넓어서 너무좋아요 무엇보다 너무...   \n",
       "\n",
       "                                       reviews_in_noun  \n",
       "0    [마농 바게트, 까르보나라 빵 진짜, 마농 필수, 빵, 빵 달, 마늘 바게트 안 것...  \n",
       "1    [쿠키 사려 스콘 보 체적 말차 초코 안 크림 치즈 꽤 습, 쿠키 진심 하나 몇개 ...  \n",
       "2    [사장 빵, 빵 케익 커피 사장 인성 번창, 최애 동네 빵집, 브랜드 빵 종류 동네...  \n",
       "3    [키쉬 종류, 매장 인테리어 빵 일반 빵, 리뷰 보고 곳 당근 케익 맛, 빵 정말 ...  \n",
       "4    [규모 작 빵 가격 자주 방문 사장, 색롤 구입 보기, 옛날 빵 나이 빵집 동네 빵...  \n",
       "..                                                 ...  \n",
       "929                              [맛집, 쑥빵, 동네 빵집, 굿, 굿]  \n",
       "930  [사장 규 포크 감동 레이크 케이크 첨 쫀득하 맛, 진짜 생크림 맛 다음 홀 케이크...  \n",
       "931  [가게 핫도그 정말, 맛 요, 쫄깃 가끔 그 시장 찹쌀 꽈배기 맛 설탕 잔뜩, 쫄깃...  \n",
       "932                                                 []  \n",
       "933  [부담 곳 추천 추천, 전체 무엇 빵맛 말 뭐해 커피 맛 빵 호박 카스테라 추천, ...  \n",
       "\n",
       "[934 rows x 5 columns]"
      ]
     },
     "execution_count": 12,
     "metadata": {},
     "output_type": "execute_result"
    }
   ],
   "source": [
    "cafe_reviews"
   ]
  }
 ],
 "metadata": {
  "interpreter": {
   "hash": "e1d96cef30529c26f1ed30713b554da4da3f897e333f2abef8f547ca85974bd3"
  },
  "kernelspec": {
   "display_name": "jupyter-notebook-archive",
   "language": "python",
   "name": "venv"
  },
  "language_info": {
   "codemirror_mode": {
    "name": "ipython",
    "version": 3
   },
   "file_extension": ".py",
   "mimetype": "text/x-python",
   "name": "python",
   "nbconvert_exporter": "python",
   "pygments_lexer": "ipython3",
   "version": "3.10.2"
  }
 },
 "nbformat": 4,
 "nbformat_minor": 4
}
