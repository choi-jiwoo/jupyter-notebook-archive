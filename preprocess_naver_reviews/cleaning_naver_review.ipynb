{
 "cells": [
  {
   "cell_type": "markdown",
   "metadata": {},
   "source": [
    "### Data Preprocessing\n",
    "\n",
    "- description에 구두점 제거\n",
    "- reviews에 각 리뷰마다 구두점 제거\n",
    "- descrption이랑 reviews 하나의 리스트로 병합\n",
    "- 명사만 추출해서 하나의 리스트로 만들기"
   ]
  },
  {
   "cell_type": "markdown",
   "metadata": {},
   "source": [
    "### Calling review data"
   ]
  },
  {
   "cell_type": "code",
   "execution_count": 1,
   "metadata": {},
   "outputs": [],
   "source": [
    "import pandas as pd"
   ]
  },
  {
   "cell_type": "code",
   "execution_count": 2,
   "metadata": {},
   "outputs": [
    {
     "data": {
      "text/html": [
       "<div>\n",
       "<style scoped>\n",
       "    .dataframe tbody tr th:only-of-type {\n",
       "        vertical-align: middle;\n",
       "    }\n",
       "\n",
       "    .dataframe tbody tr th {\n",
       "        vertical-align: top;\n",
       "    }\n",
       "\n",
       "    .dataframe thead th {\n",
       "        text-align: right;\n",
       "    }\n",
       "</style>\n",
       "<table border=\"1\" class=\"dataframe\">\n",
       "  <thead>\n",
       "    <tr style=\"text-align: right;\">\n",
       "      <th></th>\n",
       "      <th>store</th>\n",
       "      <th>rating</th>\n",
       "      <th>description</th>\n",
       "      <th>reviews</th>\n",
       "    </tr>\n",
       "  </thead>\n",
       "  <tbody>\n",
       "    <tr>\n",
       "      <th>0</th>\n",
       "      <td>오드랑베이커리</td>\n",
       "      <td>4.818182</td>\n",
       "      <td>NaN</td>\n",
       "      <td>['마농바게트 맛있어요~~', '맛있어요.', '까르보나라 빵 진짜맛있어요', '마...</td>\n",
       "    </tr>\n",
       "    <tr>\n",
       "      <th>1</th>\n",
       "      <td>Bake things better</td>\n",
       "      <td>4.875000</td>\n",
       "      <td>안녕하세요! 베이크 띵스 베러입니다.\\n우리 매장은 테이크 아웃을 전문으로 한 베이...</td>\n",
       "      <td>['쿠키만 사려 했는데 스콘이 너무 맛있어보여서… 대체적으로 다 맛있었어요~~ 말차...</td>\n",
       "    </tr>\n",
       "    <tr>\n",
       "      <th>2</th>\n",
       "      <td>파파무베이커리</td>\n",
       "      <td>4.656863</td>\n",
       "      <td>아빠가 딸을위해 만드는 건강한빵으로 아이가 아빠를부르는 옹알이의 파파무입니다^^천연...</td>\n",
       "      <td>['사장님도 친절하고 빵도 맛있어요!', '빵도 케익도 커피도 맛있고  사장님 인성...</td>\n",
       "    </tr>\n",
       "    <tr>\n",
       "      <th>3</th>\n",
       "      <td>텍스처베이커리</td>\n",
       "      <td>4.611111</td>\n",
       "      <td>텍스처 베이커리는 가정식 디저트를 추구합니다.\\n꾸며지지 않은 러프한 디저트를 즐겨...</td>\n",
       "      <td>['키쉬종류가 많아서 좋아요', '매장인테리어 귀엽구 빵도 일반적이지 않은 빵들이 ...</td>\n",
       "    </tr>\n",
       "    <tr>\n",
       "      <th>4</th>\n",
       "      <td>가야베이커리</td>\n",
       "      <td>5.000000</td>\n",
       "      <td>NaN</td>\n",
       "      <td>['규모는 작지만 빵이 맛있고 가격도 저렴해서 자주 방문하고 있습니다. 사장님 친절...</td>\n",
       "    </tr>\n",
       "  </tbody>\n",
       "</table>\n",
       "</div>"
      ],
      "text/plain": [
       "                store    rating  \\\n",
       "0             오드랑베이커리  4.818182   \n",
       "1  Bake things better  4.875000   \n",
       "2             파파무베이커리  4.656863   \n",
       "3             텍스처베이커리  4.611111   \n",
       "4              가야베이커리  5.000000   \n",
       "\n",
       "                                         description  \\\n",
       "0                                                NaN   \n",
       "1  안녕하세요! 베이크 띵스 베러입니다.\\n우리 매장은 테이크 아웃을 전문으로 한 베이...   \n",
       "2  아빠가 딸을위해 만드는 건강한빵으로 아이가 아빠를부르는 옹알이의 파파무입니다^^천연...   \n",
       "3  텍스처 베이커리는 가정식 디저트를 추구합니다.\\n꾸며지지 않은 러프한 디저트를 즐겨...   \n",
       "4                                                NaN   \n",
       "\n",
       "                                             reviews  \n",
       "0  ['마농바게트 맛있어요~~', '맛있어요.', '까르보나라 빵 진짜맛있어요', '마...  \n",
       "1  ['쿠키만 사려 했는데 스콘이 너무 맛있어보여서… 대체적으로 다 맛있었어요~~ 말차...  \n",
       "2  ['사장님도 친절하고 빵도 맛있어요!', '빵도 케익도 커피도 맛있고  사장님 인성...  \n",
       "3  ['키쉬종류가 많아서 좋아요', '매장인테리어 귀엽구 빵도 일반적이지 않은 빵들이 ...  \n",
       "4  ['규모는 작지만 빵이 맛있고 가격도 저렴해서 자주 방문하고 있습니다. 사장님 친절...  "
      ]
     },
     "execution_count": 2,
     "metadata": {},
     "output_type": "execute_result"
    }
   ],
   "source": [
    "cafe_reviews = pd.read_csv('data/cafe_reviews.csv')\n",
    "cafe_reviews.head()"
   ]
  },
  {
   "cell_type": "markdown",
   "metadata": {},
   "source": [
    "#### description 구두점 제거"
   ]
  },
  {
   "cell_type": "code",
   "execution_count": 3,
   "metadata": {},
   "outputs": [],
   "source": [
    "import string\n",
    "import ast"
   ]
  },
  {
   "cell_type": "code",
   "execution_count": 4,
   "metadata": {},
   "outputs": [],
   "source": [
    "cafe_reviews['description'] = cafe_reviews['description'].fillna('')\n",
    "cafe_desc = [x.translate(str.maketrans('', '', string.punctuation)) for x in cafe_reviews['description']]\n",
    "cafe_reviews['description'] = pd.Series(cafe_desc)"
   ]
  },
  {
   "cell_type": "markdown",
   "metadata": {},
   "source": [
    "#### reviews에 각 리뷰마다 구두점 제거"
   ]
  },
  {
   "cell_type": "code",
   "execution_count": 5,
   "metadata": {},
   "outputs": [],
   "source": [
    "def clean_reviews(row):\n",
    "    reviews = [x.translate(str.maketrans('', '', string.punctuation)) for x in row]\n",
    "    return reviews"
   ]
  },
  {
   "cell_type": "code",
   "execution_count": 6,
   "metadata": {},
   "outputs": [],
   "source": [
    "reviews = [ast.literal_eval(x) for x in cafe_reviews['reviews']]\n",
    "cafe_reviews['reviews'] = pd.Series(reviews)\n",
    "cafe_reviews['reviews'] = cafe_reviews['reviews'].apply(clean_reviews)"
   ]
  },
  {
   "cell_type": "markdown",
   "metadata": {},
   "source": [
    "#### descrption이랑 reviews 하나의 리스트로 병합"
   ]
  },
  {
   "cell_type": "code",
   "execution_count": 7,
   "metadata": {},
   "outputs": [],
   "source": [
    "for i in range(len(cafe_reviews)):\n",
    "    cafe_reviews['reviews'][i].append(cafe_reviews['description'][i])"
   ]
  },
  {
   "cell_type": "markdown",
   "metadata": {},
   "source": [
    "#### 명사만 남기기"
   ]
  },
  {
   "cell_type": "code",
   "execution_count": 23,
   "metadata": {},
   "outputs": [],
   "source": [
    "from konlpy.tag import Okt\n",
    "from tqdm import tqdm"
   ]
  },
  {
   "cell_type": "code",
   "execution_count": 27,
   "metadata": {},
   "outputs": [],
   "source": [
    "okt = Okt()"
   ]
  },
  {
   "cell_type": "code",
   "execution_count": 30,
   "metadata": {},
   "outputs": [],
   "source": [
    "def extract_noun(cafe_review):\n",
    "    reviews_w_noun = []\n",
    "    for review in tqdm(cafe_review['reviews']):\n",
    "        store_review = []\n",
    "        for i in range(len(review)):\n",
    "            noun = okt.nouns(review[i])\n",
    "            noun = ' '.join(noun)\n",
    "            store_review.append(noun)\n",
    "        reviews_w_noun.append(store_review)\n",
    "    return reviews_w_noun"
   ]
  },
  {
   "cell_type": "code",
   "execution_count": 31,
   "metadata": {},
   "outputs": [
    {
     "name": "stderr",
     "output_type": "stream",
     "text": [
      "100%|██████████| 934/934 [01:34<00:00,  9.93it/s]\n"
     ]
    }
   ],
   "source": [
    "t = extract_noun(cafe_reviews)"
   ]
  },
  {
   "cell_type": "code",
   "execution_count": 39,
   "metadata": {},
   "outputs": [],
   "source": [
    "reviews_in_noun = pd.Series(t)\n",
    "cafe_reviews['reviews_in_noun'] = reviews_in_noun"
   ]
  },
  {
   "cell_type": "markdown",
   "metadata": {},
   "source": [
    "### BERTopic"
   ]
  },
  {
   "cell_type": "code",
   "execution_count": null,
   "metadata": {},
   "outputs": [],
   "source": [
    "from bertopic import BERTopic"
   ]
  },
  {
   "cell_type": "code",
   "execution_count": null,
   "metadata": {},
   "outputs": [],
   "source": [
    "text_data = cafe_reviews['reviews']\n",
    "topic_model = BERTopic(embedding_model='jhgan/ko-sbert-sts')\n",
    "topics, probs = topic_model.fit_transform(text_data[0])  # test w only one store"
   ]
  },
  {
   "cell_type": "code",
   "execution_count": null,
   "metadata": {},
   "outputs": [],
   "source": [
    "topic_model.visualize_barchart()"
   ]
  }
 ],
 "metadata": {
  "interpreter": {
   "hash": "e1d96cef30529c26f1ed30713b554da4da3f897e333f2abef8f547ca85974bd3"
  },
  "kernelspec": {
   "display_name": "Python 3.10.2 ('venv': venv)",
   "language": "python",
   "name": "python3"
  },
  "language_info": {
   "codemirror_mode": {
    "name": "ipython",
    "version": 3
   },
   "file_extension": ".py",
   "mimetype": "text/x-python",
   "name": "python",
   "nbconvert_exporter": "python",
   "pygments_lexer": "ipython3",
   "version": "3.10.2"
  },
  "orig_nbformat": 4
 },
 "nbformat": 4,
 "nbformat_minor": 2
}
