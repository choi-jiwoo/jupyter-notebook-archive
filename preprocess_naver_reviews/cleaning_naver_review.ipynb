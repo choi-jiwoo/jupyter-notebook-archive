{
 "cells": [
  {
   "cell_type": "code",
   "execution_count": 1,
   "metadata": {},
   "outputs": [],
   "source": [
    "import pandas as pd"
   ]
  },
  {
   "cell_type": "markdown",
   "metadata": {},
   "source": [
    "### Calling review data"
   ]
  },
  {
   "cell_type": "code",
   "execution_count": 2,
   "metadata": {},
   "outputs": [
    {
     "data": {
      "text/html": [
       "<div>\n",
       "<style scoped>\n",
       "    .dataframe tbody tr th:only-of-type {\n",
       "        vertical-align: middle;\n",
       "    }\n",
       "\n",
       "    .dataframe tbody tr th {\n",
       "        vertical-align: top;\n",
       "    }\n",
       "\n",
       "    .dataframe thead th {\n",
       "        text-align: right;\n",
       "    }\n",
       "</style>\n",
       "<table border=\"1\" class=\"dataframe\">\n",
       "  <thead>\n",
       "    <tr style=\"text-align: right;\">\n",
       "      <th></th>\n",
       "      <th>store</th>\n",
       "      <th>rating</th>\n",
       "      <th>description</th>\n",
       "      <th>reviews</th>\n",
       "    </tr>\n",
       "  </thead>\n",
       "  <tbody>\n",
       "    <tr>\n",
       "      <th>0</th>\n",
       "      <td>오드랑베이커리</td>\n",
       "      <td>4.818182</td>\n",
       "      <td>NaN</td>\n",
       "      <td>['마농바게트 맛있어요~~', '맛있어요.', '까르보나라 빵 진짜맛있어요', '마...</td>\n",
       "    </tr>\n",
       "    <tr>\n",
       "      <th>1</th>\n",
       "      <td>Bake things better</td>\n",
       "      <td>4.875000</td>\n",
       "      <td>안녕하세요! 베이크 띵스 베러입니다.\\n우리 매장은 테이크 아웃을 전문으로 한 베이...</td>\n",
       "      <td>['쿠키만 사려 했는데 스콘이 너무 맛있어보여서… 대체적으로 다 맛있었어요~~ 말차...</td>\n",
       "    </tr>\n",
       "    <tr>\n",
       "      <th>2</th>\n",
       "      <td>파파무베이커리</td>\n",
       "      <td>4.656863</td>\n",
       "      <td>아빠가 딸을위해 만드는 건강한빵으로 아이가 아빠를부르는 옹알이의 파파무입니다^^천연...</td>\n",
       "      <td>['사장님도 친절하고 빵도 맛있어요!', '빵도 케익도 커피도 맛있고  사장님 인성...</td>\n",
       "    </tr>\n",
       "    <tr>\n",
       "      <th>3</th>\n",
       "      <td>텍스처베이커리</td>\n",
       "      <td>4.611111</td>\n",
       "      <td>텍스처 베이커리는 가정식 디저트를 추구합니다.\\n꾸며지지 않은 러프한 디저트를 즐겨...</td>\n",
       "      <td>['키쉬종류가 많아서 좋아요', '매장인테리어 귀엽구 빵도 일반적이지 않은 빵들이 ...</td>\n",
       "    </tr>\n",
       "    <tr>\n",
       "      <th>4</th>\n",
       "      <td>가야베이커리</td>\n",
       "      <td>5.000000</td>\n",
       "      <td>NaN</td>\n",
       "      <td>['규모는 작지만 빵이 맛있고 가격도 저렴해서 자주 방문하고 있습니다. 사장님 친절...</td>\n",
       "    </tr>\n",
       "  </tbody>\n",
       "</table>\n",
       "</div>"
      ],
      "text/plain": [
       "                store    rating  \\\n",
       "0             오드랑베이커리  4.818182   \n",
       "1  Bake things better  4.875000   \n",
       "2             파파무베이커리  4.656863   \n",
       "3             텍스처베이커리  4.611111   \n",
       "4              가야베이커리  5.000000   \n",
       "\n",
       "                                         description  \\\n",
       "0                                                NaN   \n",
       "1  안녕하세요! 베이크 띵스 베러입니다.\\n우리 매장은 테이크 아웃을 전문으로 한 베이...   \n",
       "2  아빠가 딸을위해 만드는 건강한빵으로 아이가 아빠를부르는 옹알이의 파파무입니다^^천연...   \n",
       "3  텍스처 베이커리는 가정식 디저트를 추구합니다.\\n꾸며지지 않은 러프한 디저트를 즐겨...   \n",
       "4                                                NaN   \n",
       "\n",
       "                                             reviews  \n",
       "0  ['마농바게트 맛있어요~~', '맛있어요.', '까르보나라 빵 진짜맛있어요', '마...  \n",
       "1  ['쿠키만 사려 했는데 스콘이 너무 맛있어보여서… 대체적으로 다 맛있었어요~~ 말차...  \n",
       "2  ['사장님도 친절하고 빵도 맛있어요!', '빵도 케익도 커피도 맛있고  사장님 인성...  \n",
       "3  ['키쉬종류가 많아서 좋아요', '매장인테리어 귀엽구 빵도 일반적이지 않은 빵들이 ...  \n",
       "4  ['규모는 작지만 빵이 맛있고 가격도 저렴해서 자주 방문하고 있습니다. 사장님 친절...  "
      ]
     },
     "execution_count": 2,
     "metadata": {},
     "output_type": "execute_result"
    }
   ],
   "source": [
    "df = pd.read_csv('data/cafe_reviews.csv')\n",
    "df.head()"
   ]
  },
  {
   "cell_type": "code",
   "execution_count": 3,
   "metadata": {},
   "outputs": [
    {
     "data": {
      "text/plain": [
       "0      ['마농바게트 맛있어요~~', '맛있어요.', '까르보나라 빵 진짜맛있어요', '마...\n",
       "1      ['쿠키만 사려 했는데 스콘이 너무 맛있어보여서… 대체적으로 다 맛있었어요~~ 말차...\n",
       "2      ['사장님도 친절하고 빵도 맛있어요!', '빵도 케익도 커피도 맛있고  사장님 인성...\n",
       "3      ['키쉬종류가 많아서 좋아요', '매장인테리어 귀엽구 빵도 일반적이지 않은 빵들이 ...\n",
       "4      ['규모는 작지만 빵이 맛있고 가격도 저렴해서 자주 방문하고 있습니다. 사장님 친절...\n",
       "                             ...                        \n",
       "929    ['맛집', '쑥빵 맛있어요', '평범한 동네 빵집이었어요', '', '굿', '굿...\n",
       "930    ['사장님 너무너무 친절하시규 포크도 챙겨주셔서 감동..ㅠㅠ 크레이크 케이크는 첨인...\n",
       "931    ['가게는 아담하지만 핫도그 정말 맛있어요.', '맛나요~~', '평범하지만 맛있어...\n",
       "932                                                   []\n",
       "933    ['부담없이 편한곳~~추천추천', '전체적으로 너무 깔끔하고 넓어서 너무좋아요 무엇...\n",
       "Name: reviews, Length: 934, dtype: object"
      ]
     },
     "execution_count": 3,
     "metadata": {},
     "output_type": "execute_result"
    }
   ],
   "source": [
    "df['reviews']"
   ]
  },
  {
   "cell_type": "markdown",
   "metadata": {},
   "source": [
    "### Preprocess each reviews"
   ]
  }
 ],
 "metadata": {
  "interpreter": {
   "hash": "e1d96cef30529c26f1ed30713b554da4da3f897e333f2abef8f547ca85974bd3"
  },
  "kernelspec": {
   "display_name": "Python 3.10.2 ('venv': venv)",
   "language": "python",
   "name": "python3"
  },
  "language_info": {
   "codemirror_mode": {
    "name": "ipython",
    "version": 3
   },
   "file_extension": ".py",
   "mimetype": "text/x-python",
   "name": "python",
   "nbconvert_exporter": "python",
   "pygments_lexer": "ipython3",
   "version": "3.10.2"
  },
  "orig_nbformat": 4
 },
 "nbformat": 4,
 "nbformat_minor": 2
}
