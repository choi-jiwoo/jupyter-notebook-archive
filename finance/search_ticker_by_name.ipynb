{
 "cells": [
  {
   "cell_type": "code",
   "execution_count": 1,
   "id": "446b0ab1-5b4e-4cb4-a453-82ad2f35143f",
   "metadata": {},
   "outputs": [],
   "source": [
    "import requests\n",
    "import pandas as pd"
   ]
  },
  {
   "cell_type": "markdown",
   "id": "2be5874e-8f7f-4cbf-a6c5-67184254fc1c",
   "metadata": {},
   "source": [
    "### KRX"
   ]
  },
  {
   "cell_type": "code",
   "execution_count": 2,
   "id": "132cef78-a2f3-4cfb-85b6-19b652f6785b",
   "metadata": {},
   "outputs": [],
   "source": [
    "company_name = 'KT'\n",
    "url = 'https://kind.krx.co.kr/common/searchcorpname.do'\n",
    "data = {\n",
    "    'method': 'searchCorpNameJson',\n",
    "    'searchCodeType': 'char',\n",
    "    'searchCorpName': company_name,\n",
    "}\n",
    "headers = {\n",
    "    'User-Agent': 'Mozilla',\n",
    "    'X-Requested-With': 'XMLHttpRequest',\n",
    "    'Content-Type': 'application/x-www-form-urlencoded'\n",
    "}"
   ]
  },
  {
   "cell_type": "code",
   "execution_count": 3,
   "id": "fa2dcc24-58b0-4e7b-8875-7a5793639746",
   "metadata": {},
   "outputs": [
    {
     "data": {
      "text/plain": [
       "200"
      ]
     },
     "execution_count": 3,
     "metadata": {},
     "output_type": "execute_result"
    }
   ],
   "source": [
    "res = requests.post(url, headers=headers, data=data)\n",
    "res.status_code"
   ]
  },
  {
   "cell_type": "code",
   "execution_count": 4,
   "id": "42059276-b6d0-4446-b043-379756d81f15",
   "metadata": {},
   "outputs": [],
   "source": [
    "res_data = res.json()\n",
    "first_search_res = res_data[0]\n",
    "official_comp_name = first_search_res['repisusrtkornm']\n",
    "comp_symbol = first_search_res['repisusrtcd2']"
   ]
  },
  {
   "cell_type": "code",
   "execution_count": 5,
   "id": "8b647850-d87b-4099-9aea-375fc1b601c5",
   "metadata": {},
   "outputs": [
    {
     "data": {
      "text/plain": [
       "'KT'"
      ]
     },
     "execution_count": 5,
     "metadata": {},
     "output_type": "execute_result"
    }
   ],
   "source": [
    "official_comp_name"
   ]
  },
  {
   "cell_type": "markdown",
   "id": "51b66ac6-92df-4889-abb1-5398f19759d0",
   "metadata": {},
   "source": [
    "### US"
   ]
  },
  {
   "cell_type": "code",
   "execution_count": 6,
   "id": "4f802a09-df34-4761-987f-2119d18d75da",
   "metadata": {},
   "outputs": [
    {
     "data": {
      "text/plain": [
       "200"
      ]
     },
     "execution_count": 6,
     "metadata": {},
     "output_type": "execute_result"
    }
   ],
   "source": [
    "company_name = 'snowflake'\n",
    "url = 'https://efts.sec.gov/LATEST/search-index'\n",
    "headers = {\n",
    "    'User-Agent' 'Mozilla',\n",
    "}\n",
    "form_data = f'{{\"keysTyped\": \"{company_name}\",\"narrow\": true}}'\n",
    "res = requests.post(url, data=form_data)\n",
    "res.status_code"
   ]
  },
  {
   "cell_type": "code",
   "execution_count": 7,
   "id": "a37bf8e3-476a-4531-bd63-0467ffd023c5",
   "metadata": {},
   "outputs": [
    {
     "data": {
      "text/plain": [
       "'SNOW'"
      ]
     },
     "execution_count": 7,
     "metadata": {},
     "output_type": "execute_result"
    }
   ],
   "source": [
    "res_data = res.json()\n",
    "search_result = res_data['hits']['hits']\n",
    "top_result = search_result[0]\n",
    "stock_info = top_result['_source']\n",
    "ticker = stock_info['tickers']\n",
    "ticker"
   ]
  },
  {
   "cell_type": "code",
   "execution_count": 8,
   "id": "458db3ff-6d21-4738-b033-b90c85cf39d9",
   "metadata": {},
   "outputs": [],
   "source": [
    "import re"
   ]
  },
  {
   "cell_type": "code",
   "execution_count": 9,
   "id": "bc4f030b-559f-47ca-9bc1-7ed8953e8a74",
   "metadata": {},
   "outputs": [
    {
     "data": {
      "text/plain": [
       "'Snowflake Inc.'"
      ]
     },
     "execution_count": 9,
     "metadata": {},
     "output_type": "execute_result"
    }
   ],
   "source": [
    "official_company_name = stock_info['entity']\n",
    "re.sub(r'\\s\\(\\w*\\)', '', official_company_name, flags=re.IGNORECASE)"
   ]
  }
 ],
 "metadata": {
  "kernelspec": {
   "display_name": "notebook",
   "language": "python",
   "name": "notebook"
  },
  "language_info": {
   "codemirror_mode": {
    "name": "ipython",
    "version": 3
   },
   "file_extension": ".py",
   "mimetype": "text/x-python",
   "name": "python",
   "nbconvert_exporter": "python",
   "pygments_lexer": "ipython3",
   "version": "3.10.2"
  }
 },
 "nbformat": 4,
 "nbformat_minor": 5
}
